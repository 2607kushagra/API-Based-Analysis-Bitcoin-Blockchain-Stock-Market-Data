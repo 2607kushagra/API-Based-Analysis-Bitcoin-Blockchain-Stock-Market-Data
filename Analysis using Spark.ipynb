{
 "cells": [
  {
   "cell_type": "markdown",
   "metadata": {},
   "source": [
    "##**Group 7**\n",
    "\n",
    "### -Kushagra Rastogi(KXR220031)"
   ]
  },
  {
   "cell_type": "markdown",
   "metadata": {},
   "source": [
    "#Step 0: Jupyter Notebook Setup"
   ]
  },
  {
   "cell_type": "markdown",
   "metadata": {},
   "source": [
    "####1. Locate .bashrc file which is in the following directory in local file system hidden in VM: /home/training\n",
    "####2. Edit the file by uncommenting the following line (remove the # sign before the line) in the file:\n",
    "####         \"export PYSPARK_DRIVER_PYTHON_OPTS='notebook --ip 127.0.0.1 --port 3333 --no-mathjax'\"\n",
    "####3. Save the file and restart your terminal.\n",
    "####4. In terminal type pyspark and hit Enter this show the open Jupyter Notebook in browser."
   ]
  },
  {
   "cell_type": "code",
   "execution_count": 16,
   "metadata": {
    "collapsed": false
   },
   "outputs": [
    {
     "data": {
      "image/png": "[encoded data removed]",
      "text/plain": [
       "<IPython.core.display.Image object>"
      ]
     },
     "execution_count": 16,
     "metadata": {
      "image/png": {
       "height": 300,
       "width": 800
      }
     },
     "output_type": "execute_result"
    }
   ],
   "source": [
    "# Import image module \n",
    "from IPython.display import Image \n",
    "\n",
    "# Get the image \n",
    "Image(filename=\"/home/training/Desktop/bashrc.png\", width=800, height=300)"
   ]
  },
  {
   "cell_type": "markdown",
   "metadata": {},
   "source": [
    "#Step 2: Data Analysis Using Spark Core"
   ]
  },
  {
   "cell_type": "markdown",
   "metadata": {},
   "source": [
    "##A. Blockchain Data Analysis – Part 1"
   ]
  },
  {
   "cell_type": "code",
   "execution_count": 76,
   "metadata": {
    "collapsed": true
   },
   "outputs": [],
   "source": [
    "# Stop Spark context\n",
    "sc.stop()"
   ]
  },
  {
   "cell_type": "code",
   "execution_count": 77,
   "metadata": {
    "collapsed": false
   },
   "outputs": [],
   "source": [
    "from pyspark import SparkConf, SparkContext"
   ]
  },
  {
   "cell_type": "code",
   "execution_count": 78,
   "metadata": {
    "collapsed": false
   },
   "outputs": [],
   "source": [
    "# Initialize Spark configuration and context\n",
    "conf = SparkConf().setAppName(\"BlockchainDataAnalysis\")\n",
    "sc = SparkContext(conf=conf)\n",
    "\n",
    "input_path = \"hdfs://localhost:8020//Project_1/block_data.csv\"\n",
    "\n",
    "# Load data from HDFS into an RDD\n",
    "blockchain_data = sc.textFile(input_path)"
   ]
  },
  {
   "cell_type": "markdown",
   "metadata": {},
   "source": [
    "####1.How many total blocks are there in your dataset?"
   ]
  },
  {
   "cell_type": "code",
   "execution_count": 79,
   "metadata": {
    "collapsed": false
   },
   "outputs": [
    {
     "name": "stdout",
     "output_type": "stream",
     "text": [
      "1. Total blocks: 242\n"
     ]
    }
   ],
   "source": [
    "total_blocks = blockchain_data.count()\n",
    "print(\"1. Total blocks: {}\".format(total_blocks))"
   ]
  },
  {
   "cell_type": "markdown",
   "metadata": {},
   "source": [
    "####2.What is the largest block height among the blocks in your dataset?"
   ]
  },
  {
   "cell_type": "code",
   "execution_count": 89,
   "metadata": {
    "collapsed": false
   },
   "outputs": [],
   "source": [
    "largest_block_height = (\n",
    "    blockchain_data\n",
    "    .filter(lambda line: \"height\" not in line)\n",
    "    .map(lambda line: int(line.split(\",\")[13]))  \n",
    "    .max()\n",
    ")"
   ]
  },
  {
   "cell_type": "code",
   "execution_count": 91,
   "metadata": {
    "collapsed": false
   },
   "outputs": [
    {
     "name": "stdout",
     "output_type": "stream",
     "text": [
      "The largest block height is:819777\n"
     ]
    }
   ],
   "source": [
    "# Print the result\n",
    "print(\"The largest block height is:{}\".format(largest_block_height))"
   ]
  },
  {
   "cell_type": "markdown",
   "metadata": {},
   "source": [
    "####3.What is the date and time for that block?"
   ]
  },
  {
   "cell_type": "code",
   "execution_count": 96,
   "metadata": {
    "collapsed": false
   },
   "outputs": [
    {
     "name": "stdout",
     "output_type": "stream",
     "text": [
      "The date and time for the largest block is: 2023-12-04 20:39:51\n"
     ]
    }
   ],
   "source": [
    "largest_block_info = (\n",
    "    blockchain_data\n",
    "    .filter(lambda line: \"height\" not in line)\n",
    "    .map(lambda line: (int(line.split(\",\")[13]), line.split(\",\")[4]))  \n",
    ")\n",
    "\n",
    "# Find the timestamp for the largest block height\n",
    "largest_block_timestamp = largest_block_info.filter(lambda x: x[0] == largest_block_height).map(lambda x: x[1]).first()\n",
    "\n",
    "# Print the result\n",
    "print(\"The date and time for the largest block is: {}\".format(largest_block_timestamp))"
   ]
  },
  {
   "cell_type": "markdown",
   "metadata": {},
   "source": [
    "####4.What is the highest number of transactions in your blocks?"
   ]
  },
  {
   "cell_type": "code",
   "execution_count": 97,
   "metadata": {
    "collapsed": false
   },
   "outputs": [
    {
     "name": "stdout",
     "output_type": "stream",
     "text": [
      "The highest number of transactions in a block is: 2097262\n"
     ]
    }
   ],
   "source": [
    "# Extract the number of transactions\n",
    "num_transactions = (\n",
    "    blockchain_data\n",
    "    .filter(lambda line: \"height\" not in line)\n",
    "    .map(lambda line: int(line.split(\",\")[10]))  \n",
    ")\n",
    "\n",
    "# Find the highest number of transactions\n",
    "highest_num_transactions = num_transactions.max()\n",
    "\n",
    "# Print the result\n",
    "print(\"The highest number of transactions in a block is: {}\".format(highest_num_transactions))"
   ]
  },
  {
   "cell_type": "code",
   "execution_count": 60,
   "metadata": {
    "collapsed": true
   },
   "outputs": [],
   "source": [
    "# Stop Spark context\n",
    "sc.stop()"
   ]
  },
  {
   "cell_type": "markdown",
   "metadata": {},
   "source": [
    "##B. Stock Market Data Analysis"
   ]
  },
  {
   "cell_type": "code",
   "execution_count": 152,
   "metadata": {
    "collapsed": true
   },
   "outputs": [],
   "source": [
    "sc.stop()"
   ]
  },
  {
   "cell_type": "code",
   "execution_count": 154,
   "metadata": {
    "collapsed": true
   },
   "outputs": [],
   "source": [
    "import pyspark\n",
    "from pyspark import sql\n",
    "from pyspark import SparkContext, SparkConf\n",
    "from pyspark.sql import SQLContext"
   ]
  },
  {
   "cell_type": "code",
   "execution_count": 155,
   "metadata": {
    "collapsed": true
   },
   "outputs": [],
   "source": [
    "from pyspark import SparkContext\n",
    "from pyspark.sql import SQLContext\n",
    "from pyspark.sql import Row"
   ]
  },
  {
   "cell_type": "code",
   "execution_count": 156,
   "metadata": {
    "collapsed": true
   },
   "outputs": [],
   "source": [
    "# Initialize Spark Context  \n",
    "sc = SparkContext(appName=\"CSVReader\")  \n",
    "\n",
    "# Initialize SQL Context\n",
    "sqlContext = SQLContext(sc)\n",
    "\n"
   ]
  },
  {
   "cell_type": "code",
   "execution_count": 157,
   "metadata": {
    "collapsed": true
   },
   "outputs": [],
   "source": [
    "hdfs_path = \"hdfs://localhost:8020//Project_1/Stock_Market_Data_2.csv\"\n",
    "\n",
    "# Read CSV into an RDD (Resilient Distributed Dataset)\n",
    "rdd = sc.textFile(hdfs_path)\n",
    "\n",
    "# Create a DataFrame by splitting the lines based on a delimiter (e.g., ',')\n",
    "header = rdd.first()\n",
    "data = rdd.filter(lambda row: row != header).map(lambda row: row.split(\",\"))\n",
    "df = sqlContext.createDataFrame(data, header.split(\",\"))"
   ]
  },
  {
   "cell_type": "code",
   "execution_count": 160,
   "metadata": {
    "collapsed": false
   },
   "outputs": [
    {
     "name": "stdout",
     "output_type": "stream",
     "text": [
      "Symbol Timestamp       Open High    Low     Close   Volume\n",
      "AAPL   12/8/2023 19:41 82   195.75  195.75  195.74  195.74\n",
      "AAPL   12/8/2023 18:27 834  195.695 195.72  195.71  195.66\n",
      "AAPL   12/8/2023 19:36 29   195.715 195.72  195.715 195.71\n",
      "AAPL   12/8/2023 18:38 252  195.67  195.677 195.66  195.66\n",
      "AAPL   12/8/2023 19:22 101  195.68  195.7   195.7   195.68\n",
      "AAPL   12/8/2023 19:12 181  195.71  195.71  195.71  195.7 \n",
      "AAPL   12/8/2023 18:48 611  195.71  195.72  195.715 195.71\n",
      "AAPL   12/8/2023 19:01 406  195.7   195.71  195.71  195.7 \n",
      "AAPL   12/8/2023 18:22 8    195.72  195.72  195.72  195.71\n",
      "AAPL   12/8/2023 19:56 71   195.745 195.75  195.71  195.71\n",
      "AAPL   12/8/2023 19:13 3    195.71  195.71  195.71  195.71\n",
      "AAPL   12/8/2023 19:38 4    195.75  195.75  195.72  195.72\n",
      "AAPL   12/8/2023 19:42 131  195.73  195.73  195.73  195.71\n",
      "AAPL   12/8/2023 18:35 10   195.67  195.67  195.67  195.66\n",
      "AAPL   12/8/2023 18:21 1567 195.71  195.73  195.72  195.71\n",
      "AAPL   12/8/2023 19:47 527  195.72  195.75  195.75  195.72\n",
      "AAPL   12/8/2023 19:26 677  195.715 195.72  195.7   195.68\n",
      "AAPL   12/8/2023 19:59 170  195.84  195.84  195.8   195.71\n",
      "AAPL   12/8/2023 18:57 11   195.7   195.71  195.71  195.7 \n",
      "AAPL   12/8/2023 18:47 204  195.715 195.715 195.71  195.71\n"
     ]
    }
   ],
   "source": [
    "# Show the DataFrame\n",
    "df.show()"
   ]
  },
  {
   "cell_type": "markdown",
   "metadata": {},
   "source": [
    "####1.How many records are there in the table?"
   ]
  },
  {
   "cell_type": "code",
   "execution_count": 161,
   "metadata": {
    "collapsed": false
   },
   "outputs": [
    {
     "name": "stdout",
     "output_type": "stream",
     "text": [
      "('Number of records:', 1500L)\n"
     ]
    }
   ],
   "source": [
    "record_count = df.count()\n",
    "print(\"Number of records:\", record_count)"
   ]
  },
  {
   "cell_type": "markdown",
   "metadata": {},
   "source": [
    "####2.How many different days are there in the table?"
   ]
  },
  {
   "cell_type": "code",
   "execution_count": 162,
   "metadata": {
    "collapsed": false
   },
   "outputs": [
    {
     "name": "stdout",
     "output_type": "stream",
     "text": [
      "('Number of different days:', 1L)\n"
     ]
    }
   ],
   "source": [
    "from pyspark.sql.functions import col\n",
    "# Add a new column \"date_substr\" with the first ten characters from the timestamp column\n",
    "df = df.withColumn(\"date_substr\", col(\"Timestamp\").substr(1, 10))\n",
    "\n",
    "\n",
    "unique_days_count = df.select(\"date_substr\").distinct().count()\n",
    "print(\"Number of different days:\", unique_days_count)"
   ]
  },
  {
   "cell_type": "code",
   "execution_count": 142,
   "metadata": {
    "collapsed": false
   },
   "outputs": [
    {
     "name": "stdout",
     "output_type": "stream",
     "text": [
      "Symbol Timestamp       Open High    Low     Close   Volume date_substr\n",
      "AAPL   12/8/2023 19:41 82   195.75  195.75  195.74  195.74 12/8/2023  \n",
      "AAPL   12/8/2023 18:27 834  195.695 195.72  195.71  195.66 12/8/2023  \n",
      "AAPL   12/8/2023 19:36 29   195.715 195.72  195.715 195.71 12/8/2023  \n",
      "AAPL   12/8/2023 18:38 252  195.67  195.677 195.66  195.66 12/8/2023  \n",
      "AAPL   12/8/2023 19:22 101  195.68  195.7   195.7   195.68 12/8/2023  \n",
      "AAPL   12/8/2023 19:12 181  195.71  195.71  195.71  195.7  12/8/2023  \n",
      "AAPL   12/8/2023 18:48 611  195.71  195.72  195.715 195.71 12/8/2023  \n",
      "AAPL   12/8/2023 19:01 406  195.7   195.71  195.71  195.7  12/8/2023  \n",
      "AAPL   12/8/2023 18:22 8    195.72  195.72  195.72  195.71 12/8/2023  \n",
      "AAPL   12/8/2023 19:56 71   195.745 195.75  195.71  195.71 12/8/2023  \n",
      "AAPL   12/8/2023 19:13 3    195.71  195.71  195.71  195.71 12/8/2023  \n",
      "AAPL   12/8/2023 19:38 4    195.75  195.75  195.72  195.72 12/8/2023  \n",
      "AAPL   12/8/2023 19:42 131  195.73  195.73  195.73  195.71 12/8/2023  \n",
      "AAPL   12/8/2023 18:35 10   195.67  195.67  195.67  195.66 12/8/2023  \n",
      "AAPL   12/8/2023 18:21 1567 195.71  195.73  195.72  195.71 12/8/2023  \n",
      "AAPL   12/8/2023 19:47 527  195.72  195.75  195.75  195.72 12/8/2023  \n",
      "AAPL   12/8/2023 19:26 677  195.715 195.72  195.7   195.68 12/8/2023  \n",
      "AAPL   12/8/2023 19:59 170  195.84  195.84  195.8   195.71 12/8/2023  \n",
      "AAPL   12/8/2023 18:57 11   195.7   195.71  195.71  195.7  12/8/2023  \n",
      "AAPL   12/8/2023 18:47 204  195.715 195.715 195.71  195.71 12/8/2023  \n"
     ]
    }
   ],
   "source": [
    "df.show()"
   ]
  },
  {
   "cell_type": "markdown",
   "metadata": {},
   "source": [
    "####3.How many records per each day are there in the table?"
   ]
  },
  {
   "cell_type": "code",
   "execution_count": 163,
   "metadata": {
    "collapsed": false
   },
   "outputs": [
    {
     "name": "stdout",
     "output_type": "stream",
     "text": [
      "date_substr count\n",
      "12/8/2023   1500 \n"
     ]
    }
   ],
   "source": [
    "records_per_day = df.groupBy(\"date_substr\").count().orderBy(\"date_substr\")\n",
    "\n",
    "# Show the results\n",
    "records_per_day.show()"
   ]
  },
  {
   "cell_type": "markdown",
   "metadata": {},
   "source": [
    "####4.What are the symbols in the table?"
   ]
  },
  {
   "cell_type": "code",
   "execution_count": 164,
   "metadata": {
    "collapsed": false
   },
   "outputs": [
    {
     "name": "stdout",
     "output_type": "stream",
     "text": [
      "Symbol\n",
      "AAPL  \n",
      "GOOGL \n",
      "IBM   \n",
      "AMZN  \n",
      "MSFT  \n"
     ]
    }
   ],
   "source": [
    "# Get unique symbols in the DataFrame\n",
    "unique_symbols = df.select(\"Symbol\").distinct()\n",
    "\n",
    "# Show the results\n",
    "unique_symbols.show()\n"
   ]
  },
  {
   "cell_type": "markdown",
   "metadata": {},
   "source": [
    "####5.What is the highest price for each symbol?"
   ]
  },
  {
   "cell_type": "code",
   "execution_count": 145,
   "metadata": {
    "collapsed": false
   },
   "outputs": [
    {
     "name": "stdout",
     "output_type": "stream",
     "text": [
      "5. Highest price for each symbol:\n",
      "Symbol HighestPrice\n",
      "AAPL   195.8       \n",
      "GOOGL  134.79      \n",
      "IBM    162.1       \n",
      "AMZN   147.59      \n",
      "MSFT   373.94      \n"
     ]
    }
   ],
   "source": [
    "from pyspark.sql.functions import max, min,avg\n",
    "\n",
    "df_highest_price = df.groupBy(\"Symbol\").agg(col(\"Symbol\"), max(df[\"Close\"]).alias(\"HighestPrice\"))\n",
    "print(\"5. Highest price for each symbol:\")\n",
    "df_highest_price.show()\n"
   ]
  },
  {
   "cell_type": "markdown",
   "metadata": {},
   "source": [
    "####6.What is the lowest price for each symbol?"
   ]
  },
  {
   "cell_type": "code",
   "execution_count": 146,
   "metadata": {
    "collapsed": false
   },
   "outputs": [
    {
     "name": "stdout",
     "output_type": "stream",
     "text": [
      "6. Lowest price for each symbol:\n",
      "Symbol LowestPrice\n",
      "AAPL   195.8      \n",
      "GOOGL  134.79     \n",
      "IBM    162.1      \n",
      "AMZN   147.59     \n",
      "MSFT   373.94     \n"
     ]
    }
   ],
   "source": [
    "# 6. What is the lowest price for each symbol?\n",
    "df_lowest_price = df.groupBy(\"Symbol\").agg(col(\"Symbol\"), max(df[\"Close\"]).alias(\"LowestPrice\"))\n",
    "print(\"6. Lowest price for each symbol:\")\n",
    "df_lowest_price.show()"
   ]
  },
  {
   "cell_type": "markdown",
   "metadata": {},
   "source": [
    "####7.What is the average price for each symbol?"
   ]
  },
  {
   "cell_type": "code",
   "execution_count": 147,
   "metadata": {
    "collapsed": false
   },
   "outputs": [
    {
     "name": "stdout",
     "output_type": "stream",
     "text": [
      "7. Average price for each symbol:\n",
      "Symbol AveragePrice      \n",
      "AAPL   195.71044999999995\n",
      "GOOGL  134.70088         \n",
      "IBM    161.92815         \n",
      "AMZN   147.50670000000014\n",
      "MSFT   373.83949999999936\n"
     ]
    }
   ],
   "source": [
    "#7. Show the average price for each symbol\n",
    "df_avg_price = df.groupBy(\"Symbol\").agg(col(\"Symbol\"), avg(df[\"Close\"]).alias(\"AveragePrice\"))\n",
    "print(\"7. Average price for each symbol:\")\n",
    "df_avg_price.show()"
   ]
  },
  {
   "cell_type": "markdown",
   "metadata": {},
   "source": [
    "####8.What is the range of price for each symbol?"
   ]
  },
  {
   "cell_type": "code",
   "execution_count": 148,
   "metadata": {
    "collapsed": false
   },
   "outputs": [
    {
     "name": "stdout",
     "output_type": "stream",
     "text": [
      "8. Range of price for each symbol:\n",
      "Symbol PriceRange         \n",
      "AAPL   0.14000000000001478\n",
      "GOOGL  0.18999999999999773\n",
      "IBM    0.6200000000000045 \n",
      "AMZN   0.14000000000001478\n",
      "MSFT   0.2599999999999909 \n"
     ]
    }
   ],
   "source": [
    "# Show the range of price for each symbol\n",
    "df_price_range = df.groupBy(\"Symbol\").agg(col(\"Symbol\"), (max(df[\"Close\"]) - min(df[\"Close\"])).alias(\"PriceRange\"))\n",
    "print(\"8. Range of price for each symbol:\")\n",
    "df_price_range.show()"
   ]
  },
  {
   "cell_type": "markdown",
   "metadata": {},
   "source": [
    "####9.What is the date on which each symbol experienced the highest price?"
   ]
  },
  {
   "cell_type": "code",
   "execution_count": 149,
   "metadata": {
    "collapsed": false
   },
   "outputs": [
    {
     "name": "stdout",
     "output_type": "stream",
     "text": [
      "9. Date on which each symbol experienced the highest price:\n",
      "Symbol DateHighestPrice\n",
      "AAPL   12/8/2023       \n",
      "GOOGL  12/8/2023       \n",
      "IBM    12/8/2023       \n",
      "AMZN   12/8/2023       \n",
      "MSFT   12/8/2023       \n"
     ]
    }
   ],
   "source": [
    "# Show the date on which each symbol experienced the highest price\n",
    "#Since we are using only one day data, but please check the approach \n",
    "df_date_highest_price = df.groupBy(\"Symbol\").agg(col(\"Symbol\"), max(df[\"date_substr\"]).alias(\"DateHighestPrice\"))\n",
    "print(\"9. Date on which each symbol experienced the highest price:\")\n",
    "df_date_highest_price.show()\n",
    "\n"
   ]
  },
  {
   "cell_type": "code",
   "execution_count": 150,
   "metadata": {
    "collapsed": true
   },
   "outputs": [],
   "source": [
    "sc.stop()"
   ]
  },
  {
   "cell_type": "markdown",
   "metadata": {},
   "source": [
    "##C. Blockchain Data Analysis – Part 2"
   ]
  },
  {
   "cell_type": "code",
   "execution_count": 1,
   "metadata": {
    "collapsed": false
   },
   "outputs": [],
   "source": [
    "from pyspark import SparkContext, SparkConf"
   ]
  },
  {
   "cell_type": "code",
   "execution_count": 4,
   "metadata": {
    "collapsed": false
   },
   "outputs": [],
   "source": [
    "conf = SparkConf().setAppName(\"BitcoinAnalysis\")\n",
    "sc = SparkContext(conf=conf)"
   ]
  },
  {
   "cell_type": "code",
   "execution_count": 5,
   "metadata": {
    "collapsed": false
   },
   "outputs": [],
   "source": [
    "# path to HDFS\n",
    "data_rdd = sc.textFile('hdfs://localhost:8020//user/hive/warehouse/your_hive_database.db/blocks_2023_Sep_10_to_15')\n",
    "data_rddinfo = sc.textFile('hdfs://localhost:8020//user/hive/warehouse/your_hive_database.db/blocks_info_2023_Sep_10_to_15')\n",
    "data_rddtx = sc.textFile('hdfs://localhost:8020//user/hive/warehouse/your_hive_database.db/tx_info_2023_Sep_10_to_15')\n"
   ]
  },
  {
   "cell_type": "markdown",
   "metadata": {},
   "source": [
    "####1. How many total blocks are there in your blocks table?"
   ]
  },
  {
   "cell_type": "code",
   "execution_count": 6,
   "metadata": {
    "collapsed": false
   },
   "outputs": [
    {
     "data": {
      "text/plain": [
       "919"
      ]
     },
     "execution_count": 6,
     "metadata": {},
     "output_type": "execute_result"
    }
   ],
   "source": [
    "total_blocks = data_rdd.count()\n",
    "total_blocks"
   ]
  },
  {
   "cell_type": "markdown",
   "metadata": {},
   "source": [
    "####2. What is the largest block height among the blocks in your blocks table?"
   ]
  },
  {
   "cell_type": "code",
   "execution_count": 7,
   "metadata": {
    "collapsed": false
   },
   "outputs": [
    {
     "data": {
      "text/plain": [
       "807290"
      ]
     },
     "execution_count": 7,
     "metadata": {},
     "output_type": "execute_result"
    }
   ],
   "source": [
    "largest_block_height = data_rddtx.map(lambda line: int(line.split(',')[14])).max()\n",
    "largest_block_height"
   ]
  },
  {
   "cell_type": "markdown",
   "metadata": {},
   "source": [
    "#### 3. What is the date and time for that block?"
   ]
  },
  {
   "cell_type": "code",
   "execution_count": 8,
   "metadata": {
    "collapsed": false,
    "scrolled": true
   },
   "outputs": [],
   "source": [
    "largest_block_info = data_rdd.filter(lambda line: int(line.split(',')[3]) == largest_block_height).collect()"
   ]
  },
  {
   "cell_type": "code",
   "execution_count": 9,
   "metadata": {
    "collapsed": false
   },
   "outputs": [
    {
     "data": {
      "text/plain": [
       "u'2023-09-12 00:00:00.0'"
      ]
     },
     "execution_count": 9,
     "metadata": {},
     "output_type": "execute_result"
    }
   ],
   "source": [
    "# Extract the date\n",
    "extracted_date = largest_block_info[0].split(',')[2]\n",
    "extracted_date"
   ]
  },
  {
   "cell_type": "markdown",
   "metadata": {},
   "source": [
    "#### 4. What is the largest number of transactions in your blocks?"
   ]
  },
  {
   "cell_type": "code",
   "execution_count": 10,
   "metadata": {
    "collapsed": false
   },
   "outputs": [
    {
     "data": {
      "text/plain": [
       "364919"
      ]
     },
     "execution_count": 10,
     "metadata": {},
     "output_type": "execute_result"
    }
   ],
   "source": [
    "largest_transactions_count = data_rddtx.map(lambda line: int(line.split(',')[6])).max()\n",
    "largest_transactions_count\n"
   ]
  },
  {
   "cell_type": "code",
   "execution_count": 36,
   "metadata": {
    "collapsed": false
   },
   "outputs": [],
   "source": [
    "sc.stop()"
   ]
  },
  {
   "cell_type": "markdown",
   "metadata": {},
   "source": [
    "#Step 3: Data Analysis Using Spark SQL"
   ]
  },
  {
   "cell_type": "markdown",
   "metadata": {},
   "source": [
    "##A. Blockchain Data Analysis – Part 1"
   ]
  },
  {
   "cell_type": "code",
   "execution_count": 114,
   "metadata": {
    "collapsed": false
   },
   "outputs": [],
   "source": [
    "# Stop Spark session\n",
    "sc.stop()"
   ]
  },
  {
   "cell_type": "code",
   "execution_count": 115,
   "metadata": {
    "collapsed": false
   },
   "outputs": [],
   "source": [
    "from pyspark import SparkContext, SparkConf\n",
    "from pyspark.sql import SQLContext\n",
    "from pyspark.sql import Row\n",
    "from pyspark.sql.functions import col, max"
   ]
  },
  {
   "cell_type": "code",
   "execution_count": 116,
   "metadata": {
    "collapsed": true
   },
   "outputs": [],
   "source": [
    "# Initialize Spark context\n",
    "conf = SparkConf().setAppName(\"BlockchainDataAnalysis\")\n",
    "sc = SparkContext(conf=conf)\n",
    "\n",
    "# Initialize SQL context\n",
    "sqlContext = SQLContext(sc)\n",
    "\n",
    "input_path = \"/Project_1/block_data.csv\"\n",
    "\n",
    "# Load data from HDFS into an RDD\n",
    "blockchain_data = sc.textFile(input_path)\n"
   ]
  },
  {
   "cell_type": "code",
   "execution_count": 117,
   "metadata": {
    "collapsed": true
   },
   "outputs": [],
   "source": [
    "# Define a function to parse each line and create Row objects\n",
    "def parse_line(line):\n",
    "    columns = line.split(\",\")\n",
    "    return Row(height=int(columns[13]), timestamp=columns[4], num_transactions=int(columns[10]))\n",
    "\n",
    "# Skip the header row and create RDD of Row objects\n",
    "block_data_rdd = (\n",
    "    blockchain_data\n",
    "    .filter(lambda line: \"height\" not in line)\n",
    "    .map(parse_line)\n",
    ")\n",
    "\n",
    "# Convert RDD to DataFrame\n",
    "blockchain_df = sqlContext.createDataFrame(block_data_rdd)\n",
    "\n",
    "# Create a temporary view for Spark SQL queries\n",
    "blockchain_df.registerTempTable(\"blockchain_table\")\n"
   ]
  },
  {
   "cell_type": "markdown",
   "metadata": {},
   "source": [
    "####1.How many total blocks are there in your dataset?"
   ]
  },
  {
   "cell_type": "code",
   "execution_count": 119,
   "metadata": {
    "collapsed": false
   },
   "outputs": [
    {
     "name": "stdout",
     "output_type": "stream",
     "text": [
      "1. Total blocks: 241\n"
     ]
    }
   ],
   "source": [
    "total_blocks_result = sqlContext.sql(\"SELECT COUNT(*) as total_blocks FROM blockchain_table\").collect()\n",
    "total_blocks = total_blocks_result[0].total_blocks  # Use dot notation here\n",
    "print(\"1. Total blocks: {}\".format(total_blocks))\n"
   ]
  },
  {
   "cell_type": "markdown",
   "metadata": {},
   "source": [
    "####2.What is the largest block height among the blocks in your dataset?"
   ]
  },
  {
   "cell_type": "code",
   "execution_count": 121,
   "metadata": {
    "collapsed": false
   },
   "outputs": [
    {
     "name": "stdout",
     "output_type": "stream",
     "text": [
      "2. Largest block height: 819777\n"
     ]
    }
   ],
   "source": [
    "largest_block_result = sqlContext.sql(\"SELECT MAX(height) as largest_block_height FROM blockchain_table\").collect()\n",
    "largest_block_height = largest_block_result[0].largest_block_height  # Use dot notation here\n",
    "print(\"2. Largest block height: {}\".format(largest_block_height))"
   ]
  },
  {
   "cell_type": "markdown",
   "metadata": {},
   "source": [
    "####3.What is the date and time for that block?"
   ]
  },
  {
   "cell_type": "code",
   "execution_count": 128,
   "metadata": {
    "collapsed": false
   },
   "outputs": [
    {
     "name": "stdout",
     "output_type": "stream",
     "text": [
      "3. Date and time for the largest block: 2023-12-04 20:39:51\n"
     ]
    }
   ],
   "source": [
    "largest_block_info_result = sqlContext.sql(\n",
    "    \"SELECT `timestamp` FROM blockchain_table WHERE height = {}\".format(largest_block_height)\n",
    ").collect()\n",
    "largest_block_timestamp = largest_block_info_result[0].timestamp  # Use dot notation here\n",
    "print(\"3. Date and time for the largest block: {}\".format(largest_block_timestamp))"
   ]
  },
  {
   "cell_type": "markdown",
   "metadata": {},
   "source": [
    "####4.What is the highest number of transactions in your blocks?"
   ]
  },
  {
   "cell_type": "code",
   "execution_count": 130,
   "metadata": {
    "collapsed": false
   },
   "outputs": [
    {
     "name": "stdout",
     "output_type": "stream",
     "text": [
      "4. Highest number of transactions in a block: 2097262\n"
     ]
    }
   ],
   "source": [
    "highest_num_transactions_result = blockchain_df.agg(max(\"num_transactions\").alias(\"max_transactions\")).collect()\n",
    "highest_num_transactions = highest_num_transactions_result[0].max_transactions  # Use dot notation here\n",
    "print(\"4. Highest number of transactions in a block: {}\".format(highest_num_transactions))"
   ]
  },
  {
   "cell_type": "code",
   "execution_count": 169,
   "metadata": {
    "collapsed": false
   },
   "outputs": [],
   "source": [
    "# Stop Spark context\n",
    "sc.stop()"
   ]
  },
  {
   "cell_type": "markdown",
   "metadata": {},
   "source": [
    "##B. Stock Market Data Analysis"
   ]
  },
  {
   "cell_type": "code",
   "execution_count": 216,
   "metadata": {
    "collapsed": true
   },
   "outputs": [],
   "source": [
    "# Stop Spark session\n",
    "sc.stop()"
   ]
  },
  {
   "cell_type": "code",
   "execution_count": 217,
   "metadata": {
    "collapsed": false
   },
   "outputs": [],
   "source": [
    "# Import required modules\n",
    "from pyspark import SparkContext, SparkConf\n",
    "from pyspark.sql import SQLContext\n",
    "from pyspark.sql import Row\n",
    "from pyspark.sql.functions import col"
   ]
  },
  {
   "cell_type": "code",
   "execution_count": 218,
   "metadata": {
    "collapsed": false
   },
   "outputs": [],
   "source": [
    "# Initialize Spark context\n",
    "conf = SparkConf().setAppName(\"StockDataAnalysis\")\n",
    "sc = SparkContext(conf=conf)\n",
    "\n",
    "# Initialize SQL context\n",
    "sqlContext = SQLContext(sc)\n",
    "\n",
    "hdfs_path = \"hdfs://localhost:8020/Project_1/Stock_Market_Data_2.csv\"\n"
   ]
  },
  {
   "cell_type": "code",
   "execution_count": 219,
   "metadata": {
    "collapsed": false
   },
   "outputs": [],
   "source": [
    "# Load data from HDFS into an RDD\n",
    "blockchain_data_rdd = sc.textFile(hdfs_path)\n",
    "\n",
    "# Extract header\n",
    "header = blockchain_data_rdd.first()\n",
    "\n",
    "# Remove header from RDD\n",
    "data_rdd = blockchain_data_rdd.filter(lambda line: line != header)\n"
   ]
  },
  {
   "cell_type": "code",
   "execution_count": 220,
   "metadata": {
    "collapsed": false
   },
   "outputs": [],
   "source": [
    "# Split each line into a list of values\n",
    "data_rdd = data_rdd.map(lambda line: line.split(\",\"))"
   ]
  },
  {
   "cell_type": "code",
   "execution_count": 225,
   "metadata": {
    "collapsed": false
   },
   "outputs": [],
   "source": [
    "# Define a Row class for creating DataFrame\n",
    "def parse_row(line):\n",
    "    return Row(Symbol=line[0], Timestamp=line[1], Open=float(line[2]), High=float(line[3]), Low=float(line[4]), Close=float(line[5]), Volume=float(line[6]))\n"
   ]
  },
  {
   "cell_type": "code",
   "execution_count": 226,
   "metadata": {
    "collapsed": false
   },
   "outputs": [],
   "source": [
    "# Create DataFrame from RDD using the Row class\n",
    "df = sqlContext.createDataFrame(data_rdd.map(parse_row))\n"
   ]
  },
  {
   "cell_type": "code",
   "execution_count": 228,
   "metadata": {
    "collapsed": false
   },
   "outputs": [
    {
     "name": "stdout",
     "output_type": "stream",
     "text": [
      "Close   High    Low     Open   Symbol Timestamp       Volume\n",
      "195.74  195.75  195.75  82.0   AAPL   12/8/2023 19:41 195.74\n",
      "195.71  195.695 195.72  834.0  AAPL   12/8/2023 18:27 195.66\n",
      "195.715 195.715 195.72  29.0   AAPL   12/8/2023 19:36 195.71\n",
      "195.66  195.67  195.677 252.0  AAPL   12/8/2023 18:38 195.66\n",
      "195.7   195.68  195.7   101.0  AAPL   12/8/2023 19:22 195.68\n",
      "195.71  195.71  195.71  181.0  AAPL   12/8/2023 19:12 195.7 \n",
      "195.715 195.71  195.72  611.0  AAPL   12/8/2023 18:48 195.71\n",
      "195.71  195.7   195.71  406.0  AAPL   12/8/2023 19:01 195.7 \n",
      "195.72  195.72  195.72  8.0    AAPL   12/8/2023 18:22 195.71\n",
      "195.71  195.745 195.75  71.0   AAPL   12/8/2023 19:56 195.71\n",
      "195.71  195.71  195.71  3.0    AAPL   12/8/2023 19:13 195.71\n",
      "195.72  195.75  195.75  4.0    AAPL   12/8/2023 19:38 195.72\n",
      "195.73  195.73  195.73  131.0  AAPL   12/8/2023 19:42 195.71\n",
      "195.67  195.67  195.67  10.0   AAPL   12/8/2023 18:35 195.66\n",
      "195.72  195.71  195.73  1567.0 AAPL   12/8/2023 18:21 195.71\n",
      "195.75  195.72  195.75  527.0  AAPL   12/8/2023 19:47 195.72\n",
      "195.7   195.715 195.72  677.0  AAPL   12/8/2023 19:26 195.68\n",
      "195.8   195.84  195.84  170.0  AAPL   12/8/2023 19:59 195.71\n",
      "195.71  195.7   195.71  11.0   AAPL   12/8/2023 18:57 195.7 \n",
      "195.71  195.715 195.715 204.0  AAPL   12/8/2023 18:47 195.71\n"
     ]
    }
   ],
   "source": [
    "df.show()"
   ]
  },
  {
   "cell_type": "code",
   "execution_count": 229,
   "metadata": {
    "collapsed": true
   },
   "outputs": [],
   "source": [
    "df.registerTempTable(\"stock_data\")"
   ]
  },
  {
   "cell_type": "markdown",
   "metadata": {},
   "source": [
    "####1.How many records are there in the table?"
   ]
  },
  {
   "cell_type": "code",
   "execution_count": 230,
   "metadata": {
    "collapsed": false
   },
   "outputs": [
    {
     "name": "stdout",
     "output_type": "stream",
     "text": [
      "records_count\n",
      "1500         \n"
     ]
    }
   ],
   "source": [
    "# 1. How many records are there in the table?\n",
    "records_count = sqlContext.sql(\"SELECT COUNT(*) as records_count FROM stock_data\")\n",
    "records_count.show()"
   ]
  },
  {
   "cell_type": "markdown",
   "metadata": {},
   "source": [
    "####2.How many different days are there in the table?"
   ]
  },
  {
   "cell_type": "code",
   "execution_count": 290,
   "metadata": {
    "collapsed": false
   },
   "outputs": [
    {
     "name": "stdout",
     "output_type": "stream",
     "text": [
      "distinct_days\n",
      "1            \n"
     ]
    }
   ],
   "source": [
    "# 2. How many different days are there in the table?\n",
    "distinct_days_sql = sqlContext.sql('''\n",
    "    SELECT COUNT(DISTINCT SUBSTRING(`Timestamp`, 1, 10)) as distinct_days\n",
    "    FROM stock_data\n",
    "''')\n",
    "\n",
    "distinct_days_sql.show()\n"
   ]
  },
  {
   "cell_type": "markdown",
   "metadata": {},
   "source": [
    "####3.How many records per each day are there in the table?"
   ]
  },
  {
   "cell_type": "code",
   "execution_count": 291,
   "metadata": {
    "collapsed": false
   },
   "outputs": [
    {
     "name": "stdout",
     "output_type": "stream",
     "text": [
      "Day        RecordsPerDay\n",
      "12/8/2023  1500         \n"
     ]
    }
   ],
   "source": [
    "# 3. How many records per each day are there in the table?\n",
    "records_per_day_sql = sqlContext.sql('''\n",
    "    SELECT SUBSTRING(`Timestamp`, 1, 10) as Day, COUNT(*) as RecordsPerDay\n",
    "    FROM stock_data\n",
    "    GROUP BY SUBSTRING(`Timestamp`, 1, 10)\n",
    "''')\n",
    "\n",
    "records_per_day_sql.show()\n"
   ]
  },
  {
   "cell_type": "markdown",
   "metadata": {},
   "source": [
    "####4.What are the symbols in the table?"
   ]
  },
  {
   "cell_type": "code",
   "execution_count": 237,
   "metadata": {
    "collapsed": false
   },
   "outputs": [
    {
     "name": "stdout",
     "output_type": "stream",
     "text": [
      "Symbol\n",
      "AAPL  \n",
      "GOOGL \n",
      "IBM   \n",
      "AMZN  \n",
      "MSFT  \n"
     ]
    }
   ],
   "source": [
    "# 4. What are the symbols in the table?\n",
    "unique_symbols_sql = sqlContext.sql(\"SELECT DISTINCT Symbol FROM stock_data\")\n",
    "unique_symbols_sql.show()\n"
   ]
  },
  {
   "cell_type": "markdown",
   "metadata": {},
   "source": [
    "####5.What is the highest price for each symbol?"
   ]
  },
  {
   "cell_type": "code",
   "execution_count": 238,
   "metadata": {
    "collapsed": false
   },
   "outputs": [
    {
     "name": "stdout",
     "output_type": "stream",
     "text": [
      "Symbol highest_price\n",
      "AAPL   195.84       \n",
      "GOOGL  134.8        \n",
      "IBM    162.1        \n",
      "AMZN   147.59       \n",
      "MSFT   373.99       \n"
     ]
    }
   ],
   "source": [
    "# 5. What is the highest price for each symbol?\n",
    "highest_price_sql = sqlContext.sql(\"SELECT Symbol, MAX(High) as highest_price FROM stock_data GROUP BY Symbol\")\n",
    "highest_price_sql.show()\n"
   ]
  },
  {
   "cell_type": "markdown",
   "metadata": {},
   "source": [
    "####6.What is the lowest price for each symbol?"
   ]
  },
  {
   "cell_type": "code",
   "execution_count": 239,
   "metadata": {
    "collapsed": false
   },
   "outputs": [
    {
     "name": "stdout",
     "output_type": "stream",
     "text": [
      "Symbol lowest_price\n",
      "AAPL   195.67      \n",
      "GOOGL  134.61      \n",
      "IBM    161.5       \n",
      "AMZN   147.46      \n",
      "MSFT   373.68      \n"
     ]
    }
   ],
   "source": [
    "# 6. What is the lowest price for each symbol?\n",
    "lowest_price_sql = sqlContext.sql(\"SELECT Symbol, MIN(Low) as lowest_price FROM stock_data GROUP BY Symbol\")\n",
    "lowest_price_sql.show()\n"
   ]
  },
  {
   "cell_type": "markdown",
   "metadata": {},
   "source": [
    "####7.What is the average price for each symbol?"
   ]
  },
  {
   "cell_type": "code",
   "execution_count": 240,
   "metadata": {
    "collapsed": false
   },
   "outputs": [
    {
     "name": "stdout",
     "output_type": "stream",
     "text": [
      "Symbol average_price     \n",
      "AAPL   195.71044999999995\n",
      "GOOGL  134.70088         \n",
      "IBM    161.92815         \n",
      "AMZN   147.50670000000014\n",
      "MSFT   373.83949999999936\n"
     ]
    }
   ],
   "source": [
    "# 7. What is the average price for each symbol?\n",
    "average_price_sql = sqlContext.sql(\"SELECT Symbol, AVG(Close) as average_price FROM stock_data GROUP BY Symbol\")\n",
    "average_price_sql.show()\n"
   ]
  },
  {
   "cell_type": "markdown",
   "metadata": {},
   "source": [
    "####8.What is the range of price for each symbol?"
   ]
  },
  {
   "cell_type": "code",
   "execution_count": 241,
   "metadata": {
    "collapsed": false
   },
   "outputs": [
    {
     "name": "stdout",
     "output_type": "stream",
     "text": [
      "Symbol price_range        \n",
      "AAPL   0.17000000000001592\n",
      "GOOGL  0.18999999999999773\n",
      "IBM    0.5999999999999943 \n",
      "AMZN   0.12999999999999545\n",
      "MSFT   0.3100000000000023 \n"
     ]
    }
   ],
   "source": [
    "# 8. What is the range of price for each symbol?\n",
    "price_range_sql = sqlContext.sql(\"SELECT Symbol, MAX(High) - MIN(Low) as price_range FROM stock_data GROUP BY Symbol\")\n",
    "price_range_sql.show()\n"
   ]
  },
  {
   "cell_type": "markdown",
   "metadata": {},
   "source": [
    "####9.What is the date on which each symbol experienced the highest price?"
   ]
  },
  {
   "cell_type": "code",
   "execution_count": 294,
   "metadata": {
    "collapsed": false
   },
   "outputs": [
    {
     "name": "stdout",
     "output_type": "stream",
     "text": [
      "Symbol Timestamp       High  \n",
      "AAPL   12/8/2023 19:59 195.84\n",
      "GOOGL  12/8/2023 19:59 134.8 \n",
      "IBM    12/8/2023 19:50 162.1 \n",
      "AMZN   12/8/2023 19:59 147.59\n",
      "MSFT   12/8/2023 19:59 373.99\n"
     ]
    }
   ],
   "source": [
    "# Find the date on which each symbol experienced the highest price\n",
    "#Since we are using only one day data,we check highest price by time \n",
    "date_highest_price_sql = sqlContext.sql('''\n",
    "    SELECT Symbol, MAX(`Timestamp`) as `Timestamp`, MAX(High) AS High\n",
    "    FROM stock_data\n",
    "    GROUP BY Symbol\n",
    "''')\n",
    "\n",
    "date_highest_price_sql.show()\n"
   ]
  },
  {
   "cell_type": "markdown",
   "metadata": {},
   "source": [
    "##C. Blockchain Data Analysis – Part 2"
   ]
  },
  {
   "cell_type": "code",
   "execution_count": 3,
   "metadata": {
    "collapsed": false
   },
   "outputs": [],
   "source": [
    "from pyspark import SparkContext, SparkConf\n",
    "from pyspark.sql import SQLContext"
   ]
  },
  {
   "cell_type": "code",
   "execution_count": 4,
   "metadata": {
    "collapsed": true
   },
   "outputs": [],
   "source": [
    "# Initialize SparkContext\n",
    "conf = SparkConf().setAppName(\"Blockchain\")\n",
    "sc = SparkContext(conf=conf)"
   ]
  },
  {
   "cell_type": "code",
   "execution_count": 5,
   "metadata": {
    "collapsed": true
   },
   "outputs": [],
   "source": [
    "# Create SQLContext\n",
    "sqlCtx = SQLContext(sc)"
   ]
  },
  {
   "cell_type": "code",
   "execution_count": 6,
   "metadata": {
    "collapsed": true
   },
   "outputs": [],
   "source": [
    "# Load data using sqlCtx\n",
    "blocks = sqlCtx.load(\n",
    "    source=\"jdbc\",\n",
    "    url=\"jdbc:mysql://localhost/loudacre?user=training&password=training\",\n",
    "    dbtable=\"blocks_2023_Sep_10_to_15\"\n",
    ")"
   ]
  },
  {
   "cell_type": "code",
   "execution_count": 7,
   "metadata": {
    "collapsed": false
   },
   "outputs": [
    {
     "data": {
      "text/plain": [
       "[Row(id=1, hash=u'00000000000000000000540268ddfc73d8cd7348eb48695fe4a602708c89b2e4', time=datetime.datetime(2023, 9, 10, 0, 0), block_index=806982),\n",
       " Row(id=2, hash=u'0000000000000000000372109b9a114633512587c8b074910a4bc02921828b59', time=datetime.datetime(2023, 9, 10, 0, 0), block_index=806980)]"
      ]
     },
     "execution_count": 7,
     "metadata": {},
     "output_type": "execute_result"
    }
   ],
   "source": [
    "blocks.take(2)"
   ]
  },
  {
   "cell_type": "code",
   "execution_count": 9,
   "metadata": {
    "collapsed": true
   },
   "outputs": [],
   "source": [
    "blocks_info = sqlCtx.load(\n",
    "    source=\"jdbc\",\n",
    "    url=\"jdbc:mysql://localhost/loudacre?user=training&password=training\",\n",
    "    dbtable=\"blocks_info_2023_Sep_10_to_15\"\n",
    ")\n"
   ]
  },
  {
   "cell_type": "code",
   "execution_count": 11,
   "metadata": {
    "collapsed": false
   },
   "outputs": [],
   "source": [
    "tx_info = sqlCtx.load(\n",
    "    source=\"jdbc\",\n",
    "    url=\"jdbc:mysql://localhost/loudacre?user=training&password=training\",\n",
    "    dbtable=\"tx_info_2023_Sep_10_to_15\"\n",
    ")\n",
    "\n"
   ]
  },
  {
   "cell_type": "markdown",
   "metadata": {},
   "source": [
    "####1. How many total blocks are there in your blocks table?"
   ]
  },
  {
   "cell_type": "code",
   "execution_count": 8,
   "metadata": {
    "collapsed": false
   },
   "outputs": [
    {
     "name": "stdout",
     "output_type": "stream",
     "text": [
      "('Total Blocks:', 919L)\n"
     ]
    }
   ],
   "source": [
    "total_blocks = blocks.count()\n",
    "print(\"Total Blocks:\", total_blocks)"
   ]
  },
  {
   "cell_type": "markdown",
   "metadata": {},
   "source": [
    "#### 2. What is the largest block height among the blocks in your blocks table?"
   ]
  },
  {
   "cell_type": "code",
   "execution_count": 12,
   "metadata": {
    "collapsed": false
   },
   "outputs": [
    {
     "name": "stdout",
     "output_type": "stream",
     "text": [
      "('Largest Block Height:', 807290)\n"
     ]
    }
   ],
   "source": [
    "largest_block_height = tx_info.agg({\"block_index\": \"max\"}).collect()[0][0]\n",
    "print(\"Largest Block Height:\", largest_block_height)\n",
    "\n"
   ]
  },
  {
   "cell_type": "markdown",
   "metadata": {},
   "source": [
    "#### 3. What is the date and time for that block?"
   ]
  },
  {
   "cell_type": "code",
   "execution_count": 13,
   "metadata": {
    "collapsed": false
   },
   "outputs": [
    {
     "name": "stdout",
     "output_type": "stream",
     "text": [
      "('Date and Time for the Largest Block:', datetime.datetime(2023, 9, 12, 0, 0))\n"
     ]
    }
   ],
   "source": [
    "largest_block_info = blocks.filter(blocks[\"block_index\"] == largest_block_height).select(\"time\").collect()[0][0]\n",
    "print(\"Date and Time for the Largest Block:\", largest_block_info)\n",
    "\n"
   ]
  },
  {
   "cell_type": "markdown",
   "metadata": {},
   "source": [
    "#### 4. What is the largest number of transactions in your blocks?"
   ]
  },
  {
   "cell_type": "code",
   "execution_count": 14,
   "metadata": {
    "collapsed": false
   },
   "outputs": [
    {
     "name": "stdout",
     "output_type": "stream",
     "text": [
      "('Largest Number of Transactions:', 3214)\n"
     ]
    }
   ],
   "source": [
    "largest_transactions_count = tx_info.agg({\"vout_sz\": \"max\"}).collect()[0][0]\n",
    "print(\"Largest Number of Transactions:\", largest_transactions_count)"
   ]
  },
  {
   "cell_type": "code",
   "execution_count": 298,
   "metadata": {
    "collapsed": true
   },
   "outputs": [],
   "source": [
    "sc.stop()"
   ]
  }
 ],
 "metadata": {
  "kernelspec": {
   "display_name": "Python 2",
   "language": "python",
   "name": "python2"
  },
  "language_info": {
   "codemirror_mode": {
    "name": "ipython",
    "version": 2
   },
   "file_extension": ".py",
   "mimetype": "text/x-python",
   "name": "python",
   "nbconvert_exporter": "python",
   "pygments_lexer": "ipython2",
   "version": "2.7.8"
  }
 },
 "nbformat": 4,
 "nbformat_minor": 0
}
