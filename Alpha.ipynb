{
 "cells": [
  {
   "cell_type": "code",
   "execution_count": null,
   "metadata": {},
   "outputs": [],
   "source": [
    "import requests\n",
    "import json\n",
    "import socket\n",
    "import time\n",
    "\n",
    "# Alpha Vantage API Key (replace with your actual API key)\n",
    "api_key = \"IC61TNV1GKNGZL69\"\n",
    "\n",
    "# Symbols to monitor\n",
    "symbols = [\"AAPL\", \"IBM\", \"MSFT\", \"GOOGL\", \"AMZN\"]\n",
    "\n",
    "# Set the duration and frequency\n",
    "duration = \"1min\"\n",
    "frequency = \"1min\"\n",
    "\n",
    "# Socket configuration\n",
    "host = \"localhost\"\n",
    "port = 12345\n",
    "\n",
    "# Main function to fetch and stream data\n",
    "def fetch_and_stream_data():\n",
    "    while True:\n",
    "        for symbol in symbols:\n",
    "            url = \"https://www.alphavantage.co/query?function=TIME_SERIES_INTRADAY\" \\\n",
    "                  \"&symbol={0}&interval={1}&apikey={2}\".format(symbol, duration, api_key)\n",
    "\n",
    "            response = requests.get(url)\n",
    "            if response.status_code == 200:\n",
    "                stock_data = json.loads(response.text)\n",
    "                time_series = stock_data.get(\"Time Series (1min)\")\n",
    "                if time_series:\n",
    "                    last_record_time = max(time_series.keys())\n",
    "                    last_record = time_series[last_record_time]\n",
    "                    print(\"Symbol: {}, Time: {}, Data: {}\".format(symbol, last_record_time, last_record))\n",
    "                    send_to_socket(\"Symbol: {}, Time: {}, Data: {}\".format(symbol, last_record_time, last_record))\n",
    "        time.sleep(60)  # Wait for 1 minute before fetching data again\n",
    "\n",
    "# Function to send data to the socket\n",
    "def send_to_socket(data):\n",
    "    s = socket.socket(socket.AF_INET, socket.SOCK_STREAM)\n",
    "    s.connect((host, port))\n",
    "    s.sendall(data)\n",
    "    s.close()\n",
    "\n",
    "if __name__ == \"__main__\":\n",
    "    fetch_and_stream_data()\n"
   ]
  }
 ],
 "metadata": {
  "language_info": {
   "name": "python"
  }
 },
 "nbformat": 4,
 "nbformat_minor": 2
}
