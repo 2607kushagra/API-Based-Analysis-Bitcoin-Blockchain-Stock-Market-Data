{
 "cells": [
  {
   "cell_type": "code",
   "execution_count": null,
   "metadata": {},
   "outputs": [],
   "source": [
    "import requests\n",
    "import json\n",
    "import socket\n",
    "import time\n",
    "\n",
    "# Your Alpha Vantage API Key\n",
    "api_key = \"IC61TNV1GKNGZL69\"\n",
    "\n",
    "# List of stock symbols\n",
    "symbols = [\"AAPL\", \"IBM\", \"MSFT\", \"GOOGL\", \"TSLA\"]\n",
    "\n",
    "# Define the duration and frequency\n",
    "# Adjust start_time and end_time as per your requirements (e.g., for NYSE trading hours)\n",
    "start_time = \"09:30:00\"\n",
    "end_time = \"16:00:00\"\n",
    "frequency = 60  # 1 minute\n",
    "\n",
    "# Create a socket connection\n",
    "host = \"localhost\"\n",
    "port = 12345\n",
    "sock = socket.socket(socket.AF_INET, socket.SOCK_STREAM)\n",
    "sock.connect((host, port))\n",
    "\n",
    "while True:\n",
    "    # Get real-time stock data\n",
    "    for symbol in symbols:\n",
    "        # Make API request to Alpha Vantage\n",
    "        response = requests.get(f\"https://www.alphavantage.co/query?function=TIME_SERIES_INTRADAY&symbol={symbol}&interval=1min&apikey={api_key}\")\n",
    "\n",
    "        if response.status_code == 200:\n",
    "            data = response.json()\n",
    "            # Print the data\n",
    "            print(json.dumps(data))\n",
    "            # Send data to the socket\n",
    "            sock.send(json.dumps(data).encode())\n",
    "\n",
    "    time.sleep(frequency)\n"
   ]
  }
 ],
 "metadata": {
  "language_info": {
   "name": "python"
  }
 },
 "nbformat": 4,
 "nbformat_minor": 2
}
