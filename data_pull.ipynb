{
 "cells": [
  {
   "cell_type": "code",
   "execution_count": 12,
   "metadata": {},
   "outputs": [
    {
     "name": "stdout",
     "output_type": "stream",
     "text": [
      "Data saved to block_data_formatted.txt\n"
     ]
    }
   ],
   "source": [
    "import requests\n",
    "from datetime import datetime, timedelta\n",
    "\n",
    "# Function to pull block data for a specific date\n",
    "def get_block_data(date):\n",
    "    timestamp = int(date.timestamp()) * 1000\n",
    "    url = f'https://blockchain.info/blocks/{timestamp}?format=json'\n",
    "    response = requests.get(url)\n",
    "    if response.status_code == 200:\n",
    "        return response.json()\n",
    "    else:\n",
    "        print(f\"Failed to fetch data for {date}\")\n",
    "        return None\n",
    "\n",
    "# Specify the start date\n",
    "start_date = datetime(2023, 10, 23)\n",
    "\n",
    "# Create a list to store data for seven days\n",
    "block_data_list = []\n",
    "\n",
    "# Loop through seven days\n",
    "for _ in range(7):\n",
    "    daily_data = get_block_data(start_date)\n",
    "    if daily_data:\n",
    "        block_data_list.append(daily_data)\n",
    "    start_date -= timedelta(days=1)\n",
    "\n",
    "# Create a formatted text file\n",
    "output_filename = \"block_data_formatted.txt\"\n",
    "\n",
    "# Write each block's information to the text file\n",
    "with open(output_filename, \"w\") as file:\n",
    "    for daily_data in block_data_list:\n",
    "        for block_info in daily_data:\n",
    "            file.write(str(block_info) + \"\\n\")\n",
    "\n",
    "print(f\"Data saved to {output_filename}\")\n"
   ]
  }
 ],
 "metadata": {
  "kernelspec": {
   "display_name": "Python 3",
   "language": "python",
   "name": "python3"
  },
  "language_info": {
   "codemirror_mode": {
    "name": "ipython",
    "version": 3
   },
   "file_extension": ".py",
   "mimetype": "text/x-python",
   "name": "python",
   "nbconvert_exporter": "python",
   "pygments_lexer": "ipython3",
   "version": "3.12.0"
  }
 },
 "nbformat": 4,
 "nbformat_minor": 2
}
